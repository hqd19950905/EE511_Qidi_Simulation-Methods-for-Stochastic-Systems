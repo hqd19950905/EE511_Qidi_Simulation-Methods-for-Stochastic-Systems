{
 "cells": [
  {
   "cell_type": "code",
   "execution_count": 63,
   "metadata": {},
   "outputs": [
    {
     "name": "stdout",
     "output_type": "stream",
     "text": [
      "Experiment result: 93.6328413362832 Theoretical result: (93.16275329244199, 1.6178564393058878e-09)\n"
     ]
    }
   ],
   "source": [
    "import numpy as np\n",
    "import math\n",
    "from scipy import integrate\n",
    "\n",
    "total_sample=10000;\n",
    "sum=0;\n",
    "\n",
    "for i in range(0,total_sample):\n",
    "    u = np.random.rand();\n",
    "    sum=sum+4*math.exp((4*u-2) + ((4*u-2)**2))\n",
    "\n",
    "answer = sum/total_sample;\n",
    "\n",
    "invexp = lambda x: np.exp(x+x**2)\n",
    "theo = integrate.quad(invexp, -2, 2)\n",
    "\n",
    "print('Experiment result:',str(answer),'Theoretical result:',str(theo))\n"
   ]
  },
  {
   "cell_type": "code",
   "execution_count": 44,
   "metadata": {},
   "outputs": [
    {
     "name": "stdout",
     "output_type": "stream",
     "text": [
      "Experiment result: 1.7741771311742773 Theoretical result: (1.7724538509055159, 1.4202636781830878e-08)\n"
     ]
    }
   ],
   "source": [
    "import numpy as np\n",
    "import math\n",
    "total_sample=10000;\n",
    "sum=0;\n",
    "\n",
    "for i in range(0,total_sample):\n",
    "    u = np.random.rand();\n",
    "    sum=sum+2*math.exp(-((1/u)-1)**2)*((1/u)**2)\n",
    "\n",
    "answer = sum/total_sample;\n",
    "\n",
    "invexp = lambda x: np.exp(-x**2)\n",
    "theo = integrate.quad(invexp, -np.inf, np.inf)\n",
    "\n",
    "print('Experiment result:',str(answer),'Theoretical result:',str(theo))\n"
   ]
  },
  {
   "cell_type": "code",
   "execution_count": 52,
   "metadata": {},
   "outputs": [
    {
     "name": "stdout",
     "output_type": "stream",
     "text": [
      "Experiment result: 0.4133790590656576 Theoretical result: (0.4117928941729141, 8.276155368153834e-15)\n"
     ]
    }
   ],
   "source": [
    "import numpy as np\n",
    "import math\n",
    "total_sample=10000;\n",
    "sum=0;\n",
    "\n",
    "for i in range(0,total_sample):\n",
    "    u = np.random.rand();\n",
    "    u2 = np.random.rand();\n",
    "    sum=sum+math.exp(-(u+u2)**2)\n",
    "\n",
    "answer = sum/total_sample;\n",
    "\n",
    "f = lambda y, x: np.exp(-(x+y)**2)\n",
    "theo = integrate.dblquad(f, 0, 1, lambda x: 0, lambda x: 1)\n",
    "\n",
    "print('Experiment result:',str(answer),'Theoretical result:',str(theo))"
   ]
  },
  {
   "cell_type": "code",
   "execution_count": 4,
   "metadata": {},
   "outputs": [
    {
     "data": {
      "text/plain": [
       "<Figure size 800x600 with 1 Axes>"
      ]
     },
     "metadata": {},
     "output_type": "display_data"
    }
   ],
   "source": []
  },
  {
   "cell_type": "code",
   "execution_count": 16,
   "metadata": {},
   "outputs": [
    {
     "data": {
      "image/png": "[encoded data removed]",
      "text/plain": [
       "<Figure size 800x600 with 1 Axes>"
      ]
     },
     "metadata": {
      "needs_background": "light"
     },
     "output_type": "display_data"
    },
    {
     "name": "stdout",
     "output_type": "stream",
     "text": [
      "The lower bound is:  0.02174528036767115\n",
      "The 25% percentile empirical value is:  0.25075000000000003\n",
      "The 50% percentile empirical value is:  0.5005\n",
      "The 90% percentile empirical value is:  0.9001\n",
      "The 25% percentile theoretical value is:  0.237141171210702\n",
      "The 50% percentile theoretical value is:  0.4781144096404662\n",
      "The 90% percentile theoretical value is:  0.9053291645007661\n"
     ]
    }
   ],
   "source": [
    "import matplotlib.pyplot as plt\n",
    "import numpy as np\n",
    "from scipy.stats import chi2\n",
    "\n",
    "\n",
    "def ecdf(data):\n",
    "    x = np.sort(data)\n",
    "    n = x.size\n",
    "    y = np.arange(1, n+1) / n\n",
    "    return(y)\n",
    "\n",
    "n=1000;\n",
    "x=[];\n",
    "    \n",
    "for ten_range in range(0,n):\n",
    "    z1= np.random.randn();\n",
    "    z2= np.random.randn();\n",
    "    z3= np.random.randn();\n",
    "    z4= np.random.randn();\n",
    "    x.append(z1**2+z2**2+z3**2+z4**2)\n",
    "    \n",
    "x = np.sort(x, axis=None)\n",
    "t = np.linspace(0,max(x),n)\n",
    "y = chi2.cdf(t, 4)\n",
    "\n",
    "fig = plt.figure(figsize=(8,6),dpi=100)\n",
    "plt.step(x,np.arange(0,1,1/n), label='Empirical CDF')\n",
    "plt.plot(t,y, label='Theoretical CDF')\n",
    "plt.ylim((0,1.05))\n",
    "plt.legend()\n",
    "plt.show()\n",
    "f=ecdf(x)\n",
    "lower_bound_value=[];\n",
    "\n",
    "y1 = np.zeros(n)\n",
    "h=np.arange(0,1,1/n);\n",
    "\n",
    "lower_bound = max(abs(h-chi2.cdf(x, 4)))\n",
    "y_output =chi2.cdf(x, 4);\n",
    "\n",
    "print('The lower bound is: ',str(lower_bound))\n",
    "print('The 25% percentile empirical value is: ',str(np.percentile(f,25)))\n",
    "print('The 50% percentile empirical value is: ',str(np.percentile(f,50)))\n",
    "print('The 90% percentile empirical value is: ',str(np.percentile(f,90)))\n",
    "print('The 25% percentile theoretical value is: ',str(np.percentile(y_output,25)))\n",
    "print('The 50% percentile theoretical value is: ',str(np.percentile(y_output,50)))\n",
    "print('The 90% percentile theoretical value is: ',str(np.percentile(y_output,90)))\n",
    "\n"
   ]
  },
  {
   "cell_type": "code",
   "execution_count": 15,
   "metadata": {},
   "outputs": [
    {
     "name": "stdout",
     "output_type": "stream",
     "text": [
      "The  2.5 % percentile of 15 samples is:  62.841129828135855\n",
      "The  97.5 % percentile of 15 samples is:  79.02553683853083\n",
      "The  2.5 % percentile of all samples is:  69.2771667513403\n",
      "The  97.5 % percentile of all samples is:  72.51695089571851\n",
      "The  2.5 % percentile of 15 samples is:  64.13333333333334\n",
      "The  97.5 % percentile of 15 samples is:  77.86666666666666\n",
      "The  2.5 % percentile of all samples is:  69.31985294117646\n",
      "The  97.5 % percentile of all samples is:  72.53308823529412\n"
     ]
    }
   ],
   "source": [
    "import numpy as np\n",
    "from scipy import stats\n",
    "from sklearn.utils import resample\n",
    "import math\n",
    "from random import random\n",
    "\n",
    "\n",
    "file = open(\"data1.txt\",\"r\")\n",
    "file2 = open(\"data2.txt\",\"r\")\n",
    "a=95\n",
    "#Repeat for each song in the text file\n",
    "eruptions =[];\n",
    "waiting=[];\n",
    "for line in file:\n",
    "    eruptions.append(float(line))\n",
    "for line2 in file2:\n",
    "    waiting.append(float(line2))\n",
    "file.close()\n",
    "file2.close()\n",
    "#first 15 number\n",
    "waiting_15 = waiting[:15]\n",
    "eruptions_15 = eruptions[:15]\n",
    "#statistical confidence interval of 15 samples\n",
    "standard_error = np.std(waiting_15)/np.sqrt(len(waiting_15))\n",
    "scaling =  stats.t.ppf(0.025, len(waiting_15)-1)\n",
    "scaling2 =  stats.t.ppf(0.975, len(waiting_15)-1)\n",
    "confidence_low = np.mean(waiting_15) + standard_error*scaling;\n",
    "confidence_high = np.mean(waiting_15) + standard_error*scaling2;\n",
    "print('The ',str((100-a)/2),'% percentile of 15 samples is: ',str(confidence_low))\n",
    "print('The ',str((100+a)/2),'% percentile of 15 samples is: ',str(confidence_high))\n",
    "\n",
    "#statistical confidence interval of all samples\n",
    "standard_error = np.std(waiting)/np.sqrt(len(waiting))\n",
    "scaling =  stats.t.ppf(0.025, len(waiting)-1)\n",
    "scaling2 =  stats.t.ppf(0.975, len(waiting)-1)\n",
    "confidence_low = np.mean(waiting) + standard_error*scaling;\n",
    "confidence_high = np.mean(waiting) + standard_error*scaling2;\n",
    "print('The ',str((100-a)/2),'% percentile of all samples is: ',str(confidence_low))\n",
    "print('The ',str((100+a)/2),'% percentile of all samples is: ',str(confidence_high))\n",
    "\n",
    "#Bootstrap confidence interval of 15 samples\n",
    "y1 = np.zeros(1000)\n",
    "for i in range(1,1000):\n",
    "    index=[];\n",
    "    all_number=[];\n",
    "    value = 272*np.random.rand(15,1);\n",
    "    for j in range(0,15):\n",
    "        index.append(math.ceil(value[j]))\n",
    "    for j in range(0,15):\n",
    "        ind = index[j]-1;\n",
    "        all_number.append(waiting[ind])\n",
    "    y1[i] = np.mean(all_number);\n",
    "y1 = np.sort(y1);\n",
    "per_1 = np.percentile(X, (100-a)/2,interpolation='nearest')\n",
    "per_2 = np.percentile(X, (100+a)/2,interpolation='nearest')\n",
    "print('The ',str((100-a)/2),'% percentile of 15 samples is: ',str(y1[25]))\n",
    "print('The ',str((100+a)/2),'% percentile of 15 samples is: ',str(y1[975]))\n",
    "\n",
    "#Bootstrap confidence interval of all samples\n",
    "y = np.zeros(1000)\n",
    "for i in range(1,1000):\n",
    "    index=[];\n",
    "    all_number=[];\n",
    "    value = 272*np.random.rand(272,1);\n",
    "    for j in range(0,272):\n",
    "        index.append(math.ceil(value[j]))\n",
    "    for j in range(0,272):\n",
    "        ind = index[j]-1;\n",
    "        all_number.append(waiting[ind])\n",
    "    y[i] = np.mean(all_number);\n",
    "y = np.sort(y);\n",
    "per_1 = np.percentile(X, (100-a)/2,interpolation='nearest')\n",
    "per_2 = np.percentile(X, (100+a)/2,interpolation='nearest')\n",
    "print('The ',str((100-a)/2),'% percentile of all samples is: ',str(y[25]))\n",
    "print('The ',str((100+a)/2),'% percentile of all samples is: ',str(y[975]))\n"
   ]
  },
  {
   "cell_type": "code",
   "execution_count": null,
   "metadata": {},
   "outputs": [],
   "source": []
  },
  {
   "cell_type": "code",
   "execution_count": null,
   "metadata": {},
   "outputs": [],
   "source": []
  }
 ],
 "metadata": {
  "kernelspec": {
   "display_name": "Python 3",
   "language": "python",
   "name": "python3"
  },
  "language_info": {
   "codemirror_mode": {
    "name": "ipython",
    "version": 3
   },
   "file_extension": ".py",
   "mimetype": "text/x-python",
   "name": "python",
   "nbconvert_exporter": "python",
   "pygments_lexer": "ipython3",
   "version": "3.7.4"
  }
 },
 "nbformat": 4,
 "nbformat_minor": 4
}
