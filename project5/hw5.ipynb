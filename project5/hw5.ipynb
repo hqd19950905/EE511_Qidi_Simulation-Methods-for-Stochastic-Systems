{
 "cells": [
  {
   "cell_type": "code",
   "execution_count": null,
   "metadata": {},
   "outputs": [],
   "source": []
  },
  {
   "cell_type": "code",
   "execution_count": 40,
   "metadata": {},
   "outputs": [
    {
     "name": "stdout",
     "output_type": "stream",
     "text": [
      "56.014289426676584\n"
     ]
    }
   ],
   "source": [
    "\n",
    "import random\n",
    "import math \n",
    "import numpy as np\n",
    "\n",
    "    \n",
    "depart = 0;\n",
    "break1=0;\n",
    "T = 100; # the total time we want to analyze\n",
    "Ts = np.zeros(T*T); \n",
    "i = 1;\n",
    "lam = 20;\n",
    "t = 0\n",
    "rate=0;\n",
    "\n",
    "# for j in range(0,4000):\n",
    "while (t<T):\n",
    "    u1 = np.random.rand()\n",
    "    t = t - np.log(u1)/lam\n",
    "    u2 = np.random.rand()    \n",
    "    if (np.mod(t,10)<5):\n",
    "        rate = 4 + 3*np.mod(t,10);\n",
    "\n",
    "    else:\n",
    "        rate = 19 - 3*(np.mod(t,10)-5);\n",
    "    if u2 < (rate/lam):\n",
    "        Ts[i+1] = t    \n",
    "        i = i + 1\n",
    "    \n",
    "p=0;\n",
    "no_zero_TS = Ts[Ts!=0]\n",
    "\n",
    "while(depart < T):\n",
    "    number_arrive = (len(no_zero_TS[(no_zero_TS < depart)]))\n",
    "    if(p == number_arrive):\n",
    "        break_time = 0.3*random.uniform(0, 1)\n",
    "        break1 =break1+ break_time \n",
    "        depart =depart+ break_time\n",
    "    elif(p < number_arrive and depart < T):\n",
    "        while(p < number_arrive and depart < T):\n",
    "            depart =depart+ np.random.exponential(1/25)\n",
    "            p += 1\n",
    "\n",
    "print(break1)\n",
    "        \n"
   ]
  },
  {
   "cell_type": "code",
   "execution_count": 32,
   "metadata": {},
   "outputs": [
    {
     "ename": "ValueError",
     "evalue": "could not broadcast input array from shape (400) into shape (200)",
     "output_type": "error",
     "traceback": [
      "\u001b[0;31m---------------------------------------------------------------------------\u001b[0m",
      "\u001b[0;31mValueError\u001b[0m                                Traceback (most recent call last)",
      "\u001b[0;32m<ipython-input-32-3096a36c4e85>\u001b[0m in \u001b[0;36m<module>\u001b[0;34m\u001b[0m\n\u001b[1;32m     15\u001b[0m \u001b[0moutput\u001b[0m \u001b[0;34m=\u001b[0m \u001b[0mnp\u001b[0m\u001b[0;34m.\u001b[0m\u001b[0mzeros\u001b[0m\u001b[0;34m(\u001b[0m\u001b[0;34m(\u001b[0m\u001b[0mn\u001b[0m\u001b[0;34m,\u001b[0m\u001b[0;36m2\u001b[0m\u001b[0;34m*\u001b[0m\u001b[0mN\u001b[0m\u001b[0;34m)\u001b[0m\u001b[0;34m)\u001b[0m \u001b[0;31m# clear out any old values\u001b[0m\u001b[0;34m\u001b[0m\u001b[0;34m\u001b[0m\u001b[0m\n\u001b[1;32m     16\u001b[0m \u001b[0mt\u001b[0m \u001b[0;34m=\u001b[0m \u001b[0mnp\u001b[0m\u001b[0;34m.\u001b[0m\u001b[0marange\u001b[0m\u001b[0;34m(\u001b[0m\u001b[0;36m0\u001b[0m\u001b[0;34m,\u001b[0m\u001b[0mn\u001b[0m\u001b[0;34m)\u001b[0m\u001b[0;34m\u001b[0m\u001b[0;34m\u001b[0m\u001b[0m\n\u001b[0;32m---> 17\u001b[0;31m \u001b[0moutput\u001b[0m\u001b[0;34m[\u001b[0m\u001b[0;36m0\u001b[0m\u001b[0;34m,\u001b[0m\u001b[0;34m:\u001b[0m\u001b[0;34m]\u001b[0m \u001b[0;34m=\u001b[0m \u001b[0minput\u001b[0m  \u001b[0;31m#generate first output value\u001b[0m\u001b[0;34m\u001b[0m\u001b[0;34m\u001b[0m\u001b[0m\n\u001b[0m\u001b[1;32m     18\u001b[0m \u001b[0;32mfor\u001b[0m \u001b[0mi\u001b[0m \u001b[0;32min\u001b[0m \u001b[0mrange\u001b[0m\u001b[0;34m(\u001b[0m\u001b[0;36m1\u001b[0m\u001b[0;34m,\u001b[0m\u001b[0mn\u001b[0m\u001b[0;34m)\u001b[0m\u001b[0;34m:\u001b[0m\u001b[0;34m\u001b[0m\u001b[0;34m\u001b[0m\u001b[0m\n\u001b[1;32m     19\u001b[0m     \u001b[0moutput\u001b[0m\u001b[0;34m[\u001b[0m\u001b[0mi\u001b[0m\u001b[0;34m,\u001b[0m\u001b[0;34m:\u001b[0m\u001b[0;34m]\u001b[0m \u001b[0;34m=\u001b[0m \u001b[0mnp\u001b[0m\u001b[0;34m.\u001b[0m\u001b[0mdot\u001b[0m\u001b[0;34m(\u001b[0m\u001b[0moutput\u001b[0m\u001b[0;34m[\u001b[0m\u001b[0mi\u001b[0m\u001b[0;34m-\u001b[0m\u001b[0;36m1\u001b[0m\u001b[0;34m,\u001b[0m\u001b[0;34m:\u001b[0m\u001b[0;34m]\u001b[0m\u001b[0;34m,\u001b[0m\u001b[0mP\u001b[0m\u001b[0;34m)\u001b[0m\u001b[0;34m\u001b[0m\u001b[0;34m\u001b[0m\u001b[0m\n",
      "\u001b[0;31mValueError\u001b[0m: could not broadcast input array from shape (400) into shape (200)"
     ]
    }
   ],
   "source": []
  },
  {
   "cell_type": "code",
   "execution_count": 44,
   "metadata": {},
   "outputs": [
    {
     "data": {
      "text/plain": [
       "array([0.1, 0.2, 0.3, 0.4, 0.5, 0.6, 0.7, 0.8, 0.9, 1. ])"
      ]
     },
     "execution_count": 44,
     "metadata": {},
     "output_type": "execute_result"
    }
   ],
   "source": [
    "np.linspace(0.1, 1, num=10)"
   ]
  },
  {
   "cell_type": "code",
   "execution_count": 48,
   "metadata": {},
   "outputs": [
    {
     "name": "stdout",
     "output_type": "stream",
     "text": [
      "[0.0, 0.010101010101010102, 0.02356902356902357, 0.05303030303030303, 0.19797979797979798, 0.335016835016835, 0.3997113997113997, 0.9318181818181818, 1.7115600448933783]\n",
      "[0.0, 0.015151515151515152, 0.05387205387205387, 0.1893939393939394, 2.111111111111111, 3.6094276094276094, 4.865800865800866, 7.973484848484849, 10.241301907968575]\n"
     ]
    },
    {
     "data": {
      "image/png": "[encoded data removed]",
      "text/plain": [
       "<Figure size 432x288 with 1 Axes>"
      ]
     },
     "metadata": {
      "needs_background": "light"
     },
     "output_type": "display_data"
    }
   ],
   "source": [
    "import numpy as np\n",
    "import matplotlib.pyplot as plt\n",
    "\n",
    "ri = 0.75;\n",
    "rj = 0.25;\n",
    "buff1 = [];\n",
    "buff2 = [];\n",
    "efficy=[];\n",
    "packet=[];\n",
    "time_slot=1000;\n",
    "mean_buff1=[];\n",
    "mean_buff2=[];\n",
    "\n",
    "p_value = np.linspace(0.1, 0.9, num=9) #p=pi\n",
    "for p in (p_value):\n",
    "    input1 = 0;\n",
    "    input2 = 0;\n",
    "    for t in range(1,100):\n",
    "        if (np.random.rand()<p): #input port 1 in this time slot is passed\n",
    "            input1=input1+1;\n",
    "        if (np.random.rand()<p): #input port 2 in this time slot is passed\n",
    "            input2=input2+1;\n",
    "        if (input1) != 0 and (input2) != 0:\n",
    "            if np.random.rand() < ri:\n",
    "                input1 =  input1-1;\n",
    "            if np.random.rand() < rj:\n",
    "                input2 = input2-1;\n",
    "        elif input1 != 0 and input2 == 0:\n",
    "            input1 = input1 - 1\n",
    "        elif input1 == 0 and input2 != 0:\n",
    "            input2 = input2 - 1\n",
    "        buff1.append(input1);\n",
    "        buff2.append(input2); \n",
    "    mean_buff1.append(np.mean(buff1))\n",
    "    mean_buff2.append(np.mean(buff2))\n",
    "print(mean_buff1)\n",
    "print(mean_buff2)\n",
    "#     efficy.append(1-(np.mean(input1)+np.mean(input2))/2);\n",
    "\n",
    "\n",
    "\n",
    "\n",
    "# print(buff2)\n",
    "plt.plot(p_value,mean_buff1)\n",
    "plt.plot(p_value,mean_buff2)\n",
    "plt.show()\n"
   ]
  },
  {
   "cell_type": "code",
   "execution_count": 12,
   "metadata": {},
   "outputs": [
    {
     "name": "stdout",
     "output_type": "stream",
     "text": [
      "The  2.5 % percentile is:  0.6958041958041958\n",
      "The  2.5 % percentile is:  0.7170171098742528\n"
     ]
    },
    {
     "data": {
      "text/plain": [
       "(array([   0., 1640., 7167.,  994.,    0.]),\n",
       " array([-1.5, -0.5,  0.5,  1.5,  2.5,  3.5]),\n",
       " <a list of 5 Patch objects>)"
      ]
     },
     "execution_count": 12,
     "metadata": {},
     "output_type": "execute_result"
    },
    {
     "data": {
      "image/png": "[encoded data removed]",
      "text/plain": [
       "<Figure size 432x288 with 1 Axes>"
      ]
     },
     "metadata": {
      "needs_background": "light"
     },
     "output_type": "display_data"
    }
   ],
   "source": [
    "import numpy as np\n",
    "import matplotlib.pyplot as plt\n",
    "\n",
    "ri = 0.75;\n",
    "rj = 0.25;\n",
    "buff1 = [];\n",
    "buff2 = [];\n",
    "efficy=[];\n",
    "packet=[];\n",
    "time_slot=1000;\n",
    "mean_buff1=[];\n",
    "mean_buff2=[];\n",
    "number_processed=[];\n",
    "efficy2=[];\n",
    "p_value = np.linspace(0.1, 0.9, num=9) #p=pi\n",
    "p=0.5;\n",
    "for oo in range(1,100):\n",
    "    input1 = 0;\n",
    "    input2 = 0;\n",
    "    for t in range(1,100):\n",
    "        if (np.random.rand()<p): #input port 1 in this time slot is passed\n",
    "            input1=input1+1;\n",
    "        if (np.random.rand()<p): #input port 2 in this time slot is passed\n",
    "            input2=input2+1;            \n",
    "        deter=0\n",
    "        if (input1) != 0 and (input2) != 0:\n",
    "            if np.random.rand() < ri:\n",
    "                deter=deter+1;\n",
    "                input1 =  input1-1;\n",
    "            if np.random.rand() < rj:\n",
    "                deter=deter+1;\n",
    "                input2 = input2-1;\n",
    "        elif input1 != 0 and input2 == 0:\n",
    "            deter=deter+1;\n",
    "            input1 = input1 - 1\n",
    "        elif input1 == 0 and input2 != 0:\n",
    "            deter=deter+1;\n",
    "            input2 = input2 - 1\n",
    "        number_processed.append(deter);\n",
    "        buff1.append(input1);\n",
    "        buff2.append(input2); \n",
    "    meanss=(np.mean(buff1)+np.mean(buff2));\n",
    "#     print(meanss)\n",
    "    efficy2.append((5-meanss)/2);\n",
    "#     efficy.append(1-(np.mean(input1)+np.mean(input2))/2);\n",
    "np.sort(efficy2)\n",
    "a=95\n",
    "print('The ',str((100-a)/2),'% percentile is: ',str(efficy2[25]))\n",
    "print('The ',str((100-a)/2),'% percentile is: ',str(efficy2[97]))\n",
    "\n",
    "bin1 = np.arange(-1,5)-0.5;\n",
    "plt.hist(number_processed,bin1,color='r')"
   ]
  },
  {
   "cell_type": "code",
   "execution_count": 1,
   "metadata": {},
   "outputs": [
    {
     "name": "stdin",
     "output_type": "stream",
     "text": [
      " 120\n"
     ]
    },
    {
     "name": "stdout",
     "output_type": "stream",
     "text": [
      "Not Convergence \n"
     ]
    }
   ],
   "source": [
    "import numpy as np\n",
    "from scipy.special import comb\n",
    "\n",
    "userinput = input()\n",
    "userinput = int(userinput)\n",
    "\n",
    "# input1 = np.array([0, 0, 0, 1, 0, 0, 0]) # initial distribution\n",
    "N=userinput;\n",
    "N = 100 # number of individuals\n",
    "input1 =np.zeros(2*N+1)\n",
    "input1[N]=1\n",
    "# transition matrix\n",
    "P = np.zeros((2*N+1, 2*N+1))\n",
    "for i in range(0,2*N+1):\n",
    "    for j in range(0,2*N+1):\n",
    "        P[i,j] = comb(2*N,j, exact=True, repetition=False)*(((i)/(2*N))**(j))*((1-(i)/(2*N))**(2*N-j))\n",
    "\n",
    "n = 200 # number of steps to take\n",
    "output = np.zeros((n+1,2*N+1)) # clear out any old values\n",
    "t = np.arange(0,n)\n",
    "output[0,:] = input1  #generate first output value \n",
    "for i in range(1,n):\n",
    "    output[i,:] = np.dot(output[i-1,:],P)\n",
    "    comparasion = abs(output[i,:]-output[i-1,:])\n",
    "    if comparasion[i]==1:\n",
    "        print('Convergence after '+str(i),' iterations')\n",
    "    if i==n-1:\n",
    "        print('Not Convergence ')\n",
    "        break "
   ]
  },
  {
   "cell_type": "code",
   "execution_count": 3,
   "metadata": {},
   "outputs": [
    {
     "name": "stdout",
     "output_type": "stream",
     "text": [
      "[[0.00000000e+000 0.00000000e+000 0.00000000e+000 ... 0.00000000e+000\n",
      "  0.00000000e+000 0.00000000e+000]\n",
      " [3.87259191e-121 1.54903677e-118 3.09032835e-116 ... 3.09032835e-116\n",
      "  1.54903677e-118 3.87259191e-121]\n",
      " [8.10677847e-073 9.04110231e-071 5.08677583e-069 ... 5.08677583e-069\n",
      "  9.04110231e-071 8.10677847e-073]\n",
      " ...\n",
      " [2.85870518e-001 8.74900001e-004 9.80959723e-004 ... 9.80959723e-004\n",
      "  8.74900001e-004 2.85870518e-001]\n",
      " [2.86402910e-001 8.72785152e-004 9.78587749e-004 ... 9.78587749e-004\n",
      "  8.72785152e-004 2.86402910e-001]\n",
      " [0.00000000e+000 0.00000000e+000 0.00000000e+000 ... 0.00000000e+000\n",
      "  0.00000000e+000 0.00000000e+000]]\n"
     ]
    }
   ],
   "source": [
    "print(output)"
   ]
  },
  {
   "cell_type": "code",
   "execution_count": 1,
   "metadata": {},
   "outputs": [
    {
     "name": "stdin",
     "output_type": "stream",
     "text": [
      " 50\n"
     ]
    },
    {
     "ename": "NameError",
     "evalue": "name 'a' is not defined",
     "output_type": "error",
     "traceback": [
      "\u001b[1;31m---------------------------------------------------------------------------\u001b[0m",
      "\u001b[1;31mNameError\u001b[0m                                 Traceback (most recent call last)",
      "\u001b[1;32m<ipython-input-1-b1d2c0dcbdf6>\u001b[0m in \u001b[0;36m<module>\u001b[1;34m\u001b[0m\n\u001b[0;32m      3\u001b[0m \u001b[1;33m\u001b[0m\u001b[0m\n\u001b[0;32m      4\u001b[0m \u001b[0muserinput\u001b[0m \u001b[1;33m=\u001b[0m \u001b[0minput\u001b[0m\u001b[1;33m(\u001b[0m\u001b[1;33m)\u001b[0m\u001b[1;33m\u001b[0m\u001b[1;33m\u001b[0m\u001b[0m\n\u001b[1;32m----> 5\u001b[1;33m \u001b[0muserinput\u001b[0m \u001b[1;33m=\u001b[0m \u001b[0mint\u001b[0m\u001b[1;33m(\u001b[0m\u001b[0ma\u001b[0m\u001b[1;33m)\u001b[0m\u001b[1;33m\u001b[0m\u001b[1;33m\u001b[0m\u001b[0m\n\u001b[0m\u001b[0;32m      6\u001b[0m \u001b[0mprint\u001b[0m\u001b[1;33m(\u001b[0m\u001b[0mtype\u001b[0m\u001b[1;33m(\u001b[0m\u001b[0ma\u001b[0m\u001b[1;33m)\u001b[0m\u001b[1;33m)\u001b[0m\u001b[1;33m\u001b[0m\u001b[1;33m\u001b[0m\u001b[0m\n\u001b[0;32m      7\u001b[0m \u001b[1;33m\u001b[0m\u001b[0m\n",
      "\u001b[1;31mNameError\u001b[0m: name 'a' is not defined"
     ]
    }
   ],
   "source": []
  },
  {
   "cell_type": "code",
   "execution_count": 2,
   "metadata": {},
   "outputs": [
    {
     "name": "stdin",
     "output_type": "stream",
     "text": [
      " 50\n"
     ]
    },
    {
     "name": "stdout",
     "output_type": "stream",
     "text": [
      "50\n"
     ]
    }
   ],
   "source": [
    "userinput = input()\n",
    "userinput = int(userinput)\n",
    "print((userinput))"
   ]
  },
  {
   "cell_type": "code",
   "execution_count": null,
   "metadata": {},
   "outputs": [],
   "source": []
  }
 ],
 "metadata": {
  "kernelspec": {
   "display_name": "Python 3",
   "language": "python",
   "name": "python3"
  },
  "language_info": {
   "codemirror_mode": {
    "name": "ipython",
    "version": 3
   },
   "file_extension": ".py",
   "mimetype": "text/x-python",
   "name": "python",
   "nbconvert_exporter": "python",
   "pygments_lexer": "ipython3",
   "version": "3.7.4"
  }
 },
 "nbformat": 4,
 "nbformat_minor": 4
}
